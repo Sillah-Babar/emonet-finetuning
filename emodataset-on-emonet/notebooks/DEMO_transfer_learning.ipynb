{
 "cells": [
  {
   "cell_type": "code",
   "execution_count": null,
   "id": "26802c41",
   "metadata": {},
   "outputs": [],
   "source": [
    "import torch\n",
    "import torch.nn as nn\n",
    "from emonet.models import EmoNet"
   ]
  },
  {
   "cell_type": "code",
   "execution_count": null,
   "id": "104feaf5",
   "metadata": {},
   "outputs": [],
   "source": [
    "\"\"\" If we want to transfer learn model for difference number of emotions, change n_expression or n_reg \"\"\"\n",
    "state_dict_path = f\"pretrained/emonet_8.pth\"\n",
    "n_expression = 10 # number of discrete classes\n",
    "n_reg = 3 # number of dimensional classes"
   ]
  },
  {
   "cell_type": "code",
   "execution_count": 3,
   "id": "7b605855",
   "metadata": {},
   "outputs": [],
   "source": [
    "# load pretrained weights (state dict)\n",
    "state_dict: dict[str, torch.Tensor]\n",
    "state_dict = torch.load(state_dict_path, map_location=\"cpu\")\n",
    "state_dict = { k.replace(\"module.\", \"\"): v for k, v in state_dict.items() }"
   ]
  },
  {
   "cell_type": "code",
   "execution_count": null,
   "id": "0ab003ee",
   "metadata": {},
   "outputs": [],
   "source": [
    "# print layers in pretrained weights (tensors)\n",
    "total_numbers = 0\n",
    "for idx, (name, tensor) in enumerate(state_dict.items()):\n",
    "    numbers = 1\n",
    "    print('{:>3} : {:>20}   {:<45}'.format(idx, str(tuple(tensor.shape)), name))\n",
    "    for x in tensor.shape:\n",
    "        numbers *= x\n",
    "    total_numbers += numbers\n",
    "\n",
    "print('total_numbers: {:_}'.format(total_numbers))"
   ]
  },
  {
   "cell_type": "code",
   "execution_count": null,
   "id": "fea90dd2",
   "metadata": {},
   "outputs": [],
   "source": [
    "# replace final layer with linear layer\n",
    "state_dict['emo_fc_2.3.weight'] = torch.randn(n_expression+n_reg, 128)\n",
    "state_dict['emo_fc_2.3.bias'] =   torch.randn(n_expression+n_reg)"
   ]
  },
  {
   "cell_type": "code",
   "execution_count": null,
   "id": "4c1bdfe5",
   "metadata": {},
   "outputs": [],
   "source": [
    "# load model with \n",
    "model = EmoNet(n_expression=n_expression, n_reg=n_reg).to(\"cuda:0\")\n",
    "model.load_state_dict(state_dict, strict=False)\n",
    "model.eval() # set to inference mode"
   ]
  },
  {
   "cell_type": "code",
   "execution_count": 6,
   "id": "4c665ff2",
   "metadata": {},
   "outputs": [],
   "source": [
    "# freeze all layers except except for final layer\n",
    "for name, param in model.named_parameters():\n",
    "    if 'emo_fc_2' not in name and 'conv1x1_input_emo_2' not in name:\n",
    "        param.requires_grad = False"
   ]
  },
  {
   "cell_type": "code",
   "execution_count": null,
   "id": "1f69fd98",
   "metadata": {},
   "outputs": [],
   "source": [
    "# Custom dataset class\n",
    "from torch.utils.data import Dataset\n",
    "import torchvision.transforms as transforms\n",
    "\n",
    "\"\"\" Overload __init__(), __len__() and __getitem__() methods \"\"\"\n",
    "class SomeDataset(Dataset):\n",
    "\n",
    "    def __init__(self, path: str, train: bool, transform: transforms.Compose|None):\n",
    "        self.path = path\n",
    "        self.train = train\n",
    "        self.transform = transform\n",
    "        ...\n",
    "        \n",
    "    def __len__(self):\n",
    "        ...\n",
    "        return 1\n",
    "\n",
    "    def __getitem__(self, index):\n",
    "\n",
    "        # if self.transform is not None:\n",
    "        #     image = self.transform(image)\n",
    "        \n",
    "        ..."
   ]
  },
  {
   "cell_type": "code",
   "execution_count": null,
   "id": "0824a3b4",
   "metadata": {},
   "outputs": [],
   "source": [
    "# set up datasets and dataloaders\n",
    "import torchvision.transforms as transforms\n",
    "from torch.utils.data import DataLoader\n",
    "\n",
    "transform = transforms.Compose([transforms.ToTensor()])\n",
    "\n",
    "train_set = SomeDataset('path', train=True, transform=transform)\n",
    "validate_set = SomeDataset('path', train=False, transform=transform)\n",
    "# test_set = SomeDataset('path', train=False, transform=transform)\n",
    "\n",
    "batch_size=16\n",
    "train_loader =    DataLoader(train_set, batch_size=batch_size, shuffle=True)\n",
    "validate_loader = DataLoader(validate_set, batch_size=batch_size, shuffle=True)\n",
    "# test_loader =    DataLoader(test_set, batch_size=batch_size, shuffle=True)"
   ]
  },
  {
   "cell_type": "code",
   "execution_count": 11,
   "id": "4d3117a7",
   "metadata": {},
   "outputs": [],
   "source": [
    "# initialize loss function and optimizer\n",
    "import torch.optim as optim\n",
    "\n",
    "loss_fn = nn.CrossEntropyLoss()\n",
    "\n",
    "optimizer = optim.Adam(model.parameters(), lr=0.001)"
   ]
  },
  {
   "cell_type": "code",
   "execution_count": null,
   "id": "5e05ba2c",
   "metadata": {},
   "outputs": [],
   "source": [
    "# copied from: https://docs.pytorch.org/tutorials/beginner/introyt/trainingyt.html\n",
    "def train_one_epoch(epoch_index, tb_writer):\n",
    "    running_loss = 0.\n",
    "    last_loss = 0.\n",
    "\n",
    "    for i, (inputs, labels) in enumerate(train_loader):\n",
    "\n",
    "        # Zero your gradients for every batch!\n",
    "        optimizer.zero_grad()\n",
    "\n",
    "        # Make predictions for this batch\n",
    "        outputs = model(inputs)\n",
    "\n",
    "        # Compute the loss and its gradients\n",
    "        loss = loss_fn(outputs, labels)\n",
    "        loss.backward()\n",
    "\n",
    "        # Adjust learning weights\n",
    "        optimizer.step()\n",
    "\n",
    "        # Gather data and report\n",
    "        running_loss += loss.item()\n",
    "        if i % 1000 == 999:\n",
    "            last_loss = running_loss / 1000 # loss per batch\n",
    "            print('  batch {} loss: {}'.format(i + 1, last_loss))\n",
    "            tb_x = epoch_index * len(train_loader) + i + 1\n",
    "            tb_writer.add_scalar('Loss/train', last_loss, tb_x)\n",
    "            running_loss = 0.\n",
    "\n",
    "    return last_loss"
   ]
  },
  {
   "cell_type": "code",
   "execution_count": null,
   "id": "f2a752ba",
   "metadata": {},
   "outputs": [],
   "source": [
    "# TRAIN\n",
    "# copied from:  https://docs.pytorch.org/tutorials/beginner/introyt/trainingyt.html\n",
    "from torch.utils.tensorboard import SummaryWriter\n",
    "from datetime import datetime\n",
    "\n",
    "timestamp = datetime.now().strftime('%Y%m%d_%H%M%S')\n",
    "writer = SummaryWriter('runs/fashion_trainer_{}'.format(timestamp))\n",
    "epoch_number = 0\n",
    "\n",
    "EPOCHS = 5\n",
    "\n",
    "best_vloss = 1_000_000.\n",
    "\n",
    "for epoch in range(EPOCHS):\n",
    "    print('EPOCH {}:'.format(epoch_number + 1))\n",
    "\n",
    "    # Make sure gradient tracking is on, and do a pass over the data\n",
    "    model.train(True)\n",
    "    avg_loss = train_one_epoch(epoch_number, writer)\n",
    "\n",
    "\n",
    "    running_vloss = 0.0\n",
    "    # Set the model to evaluation mode, disabling dropout and using population\n",
    "    # statistics for batch normalization.\n",
    "    model.eval()\n",
    "\n",
    "    # Disable gradient computation and reduce memory consumption.\n",
    "    with torch.no_grad():\n",
    "        for i, vdata in enumerate(validate_loader):\n",
    "            vinputs, vlabels = vdata\n",
    "            voutputs = model(vinputs)\n",
    "            vloss = loss_fn(voutputs, vlabels)\n",
    "            running_vloss += vloss\n",
    "\n",
    "    avg_vloss = running_vloss / (i + 1)\n",
    "    print('LOSS train {} valid {}'.format(avg_loss, avg_vloss))\n",
    "\n",
    "    # Log the running loss averaged per batch\n",
    "    # for both training and validation\n",
    "    writer.add_scalars('Training vs. Validation Loss',\n",
    "                    { 'Training' : avg_loss, 'Validation' : avg_vloss },\n",
    "                    epoch_number + 1)\n",
    "    writer.flush()\n",
    "\n",
    "    # Track best performance, and save the model's state\n",
    "    if avg_vloss < best_vloss:\n",
    "        best_vloss = avg_vloss\n",
    "        model_path = 'model_{}_{}'.format(timestamp, epoch_number)\n",
    "        torch.save(model.state_dict(), model_path)\n",
    "\n",
    "    epoch_number += 1"
   ]
  },
  {
   "cell_type": "code",
   "execution_count": 13,
   "id": "e0656539",
   "metadata": {},
   "outputs": [],
   "source": [
    "# save model weights\n",
    "torch.save(model.state_dict(), \"weights/model_weights.pth\")"
   ]
  }
 ],
 "metadata": {
  "kernelspec": {
   "display_name": ".venv",
   "language": "python",
   "name": "python3"
  },
  "language_info": {
   "codemirror_mode": {
    "name": "ipython",
    "version": 3
   },
   "file_extension": ".py",
   "mimetype": "text/x-python",
   "name": "python",
   "nbconvert_exporter": "python",
   "pygments_lexer": "ipython3",
   "version": "3.10.18"
  }
 },
 "nbformat": 4,
 "nbformat_minor": 5
}
