{
 "cells": [
  {
   "cell_type": "code",
   "execution_count": 1,
   "metadata": {},
   "outputs": [],
   "source": [
    "import sys, os\n",
    "sys.path.append(\"..\"); os.chdir(\"..\")\n",
    "\n",
    "import torch\n",
    "from emonet.models import EmoNet"
   ]
  },
  {
   "cell_type": "code",
   "execution_count": 3,
   "metadata": {},
   "outputs": [],
   "source": [
    "device = \"cuda\" if torch.cuda.is_available() else \"cpu\"\n",
    "model = EmoNet(\n",
    "    n_expression=8,\n",
    "    n_reg=2,\n",
    ").to(device)\n",
    "\n",
    "filepath = f\"pretrained/emonet_8_untrained.pth\"\n",
    "torch.save(model.state_dict(), filepath)"
   ]
  }
 ],
 "metadata": {
  "kernelspec": {
   "display_name": "emonet-fine-tuning",
   "language": "python",
   "name": "python3"
  },
  "language_info": {
   "codemirror_mode": {
    "name": "ipython",
    "version": 3
   },
   "file_extension": ".py",
   "mimetype": "text/x-python",
   "name": "python",
   "nbconvert_exporter": "python",
   "pygments_lexer": "ipython3",
   "version": "3.10.18"
  }
 },
 "nbformat": 4,
 "nbformat_minor": 2
}
